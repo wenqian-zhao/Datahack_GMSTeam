{
 "cells": [
  {
   "cell_type": "code",
   "execution_count": 4,
   "metadata": {},
   "outputs": [],
   "source": [
    "import pandas as pd\n",
    "import numpy as np\n",
    "import matplotlib.pyplot as plt\n",
    "import sklearn\n",
    "import seaborn"
   ]
  },
  {
   "cell_type": "code",
   "execution_count": 5,
   "metadata": {},
   "outputs": [
    {
     "name": "stderr",
     "output_type": "stream",
     "text": [
      "/opt/conda/lib/python3.8/site-packages/numpy/lib/arraysetops.py:580: FutureWarning: elementwise comparison failed; returning scalar instead, but in the future will perform elementwise comparison\n",
      "  mask |= (ar1 == a)\n"
     ]
    }
   ],
   "source": [
    "data = pd.read_csv(\"bitcoin_train.csv\", index_col = 0)"
   ]
  },
  {
   "cell_type": "code",
   "execution_count": 6,
   "metadata": {},
   "outputs": [
    {
     "data": {
      "text/html": [
       "<div>\n",
       "<style scoped>\n",
       "    .dataframe tbody tr th:only-of-type {\n",
       "        vertical-align: middle;\n",
       "    }\n",
       "\n",
       "    .dataframe tbody tr th {\n",
       "        vertical-align: top;\n",
       "    }\n",
       "\n",
       "    .dataframe thead th {\n",
       "        text-align: right;\n",
       "    }\n",
       "</style>\n",
       "<table border=\"1\" class=\"dataframe\">\n",
       "  <thead>\n",
       "    <tr style=\"text-align: right;\">\n",
       "      <th></th>\n",
       "      <th>address</th>\n",
       "      <th>year</th>\n",
       "      <th>day</th>\n",
       "      <th>length</th>\n",
       "      <th>weight</th>\n",
       "      <th>count</th>\n",
       "      <th>looped</th>\n",
       "      <th>neighbors</th>\n",
       "      <th>income</th>\n",
       "      <th>label</th>\n",
       "    </tr>\n",
       "  </thead>\n",
       "  <tbody>\n",
       "    <tr>\n",
       "      <th>0</th>\n",
       "      <td>1BpvJgUs7UprQu9z8fLsP7pFvFcCscHRCV</td>\n",
       "      <td>2011</td>\n",
       "      <td>287</td>\n",
       "      <td>2</td>\n",
       "      <td>0.250000</td>\n",
       "      <td>1</td>\n",
       "      <td>0</td>\n",
       "      <td>2</td>\n",
       "      <td>3.009500e+08</td>\n",
       "      <td>white</td>\n",
       "    </tr>\n",
       "    <tr>\n",
       "      <th>1</th>\n",
       "      <td>1EnSeTPjMxZm9X9iQDYmMUDoLQQ3ouDN6F</td>\n",
       "      <td>2015</td>\n",
       "      <td>77</td>\n",
       "      <td>0</td>\n",
       "      <td>1.000000</td>\n",
       "      <td>1</td>\n",
       "      <td>0</td>\n",
       "      <td>1</td>\n",
       "      <td>4.820000e+07</td>\n",
       "      <td>white</td>\n",
       "    </tr>\n",
       "    <tr>\n",
       "      <th>2</th>\n",
       "      <td>1mwkhYHeoqGBkVW84yFpYCSqRDt5TWSBQ</td>\n",
       "      <td>2011</td>\n",
       "      <td>164</td>\n",
       "      <td>52</td>\n",
       "      <td>0.000977</td>\n",
       "      <td>23</td>\n",
       "      <td>0</td>\n",
       "      <td>2</td>\n",
       "      <td>2.349582e+10</td>\n",
       "      <td>white</td>\n",
       "    </tr>\n",
       "    <tr>\n",
       "      <th>3</th>\n",
       "      <td>19XUCsxgpHZGXKLgVMpdoyZqcFdeM3pGeE</td>\n",
       "      <td>2014</td>\n",
       "      <td>86</td>\n",
       "      <td>144</td>\n",
       "      <td>0.000001</td>\n",
       "      <td>1555</td>\n",
       "      <td>1152</td>\n",
       "      <td>2</td>\n",
       "      <td>9.581274e+07</td>\n",
       "      <td>white</td>\n",
       "    </tr>\n",
       "    <tr>\n",
       "      <th>4</th>\n",
       "      <td>14Ef6MGSYLEbigo55CpPBGEGSGYwwB7xhY</td>\n",
       "      <td>2015</td>\n",
       "      <td>261</td>\n",
       "      <td>6</td>\n",
       "      <td>0.250000</td>\n",
       "      <td>1</td>\n",
       "      <td>0</td>\n",
       "      <td>2</td>\n",
       "      <td>3.424024e+07</td>\n",
       "      <td>white</td>\n",
       "    </tr>\n",
       "  </tbody>\n",
       "</table>\n",
       "</div>"
      ],
      "text/plain": [
       "                              address  year  day  length    weight  count  \\\n",
       "0  1BpvJgUs7UprQu9z8fLsP7pFvFcCscHRCV  2011  287       2  0.250000      1   \n",
       "1  1EnSeTPjMxZm9X9iQDYmMUDoLQQ3ouDN6F  2015   77       0  1.000000      1   \n",
       "2   1mwkhYHeoqGBkVW84yFpYCSqRDt5TWSBQ  2011  164      52  0.000977     23   \n",
       "3  19XUCsxgpHZGXKLgVMpdoyZqcFdeM3pGeE  2014   86     144  0.000001   1555   \n",
       "4  14Ef6MGSYLEbigo55CpPBGEGSGYwwB7xhY  2015  261       6  0.250000      1   \n",
       "\n",
       "   looped  neighbors        income  label  \n",
       "0       0          2  3.009500e+08  white  \n",
       "1       0          1  4.820000e+07  white  \n",
       "2       0          2  2.349582e+10  white  \n",
       "3    1152          2  9.581274e+07  white  \n",
       "4       0          2  3.424024e+07  white  "
      ]
     },
     "execution_count": 6,
     "metadata": {},
     "output_type": "execute_result"
    }
   ],
   "source": [
    "data.head()"
   ]
  },
  {
   "cell_type": "code",
   "execution_count": 14,
   "metadata": {},
   "outputs": [
    {
     "data": {
      "text/plain": [
       "{'CryptoWall': 4198413,\n",
       " 'Cerber': 5402451,\n",
       " 'CryptoLocker': 2244009,\n",
       " 'Locky': 5542529,\n",
       " 'DMALockerv3': 277538,\n",
       " 'CryptXXX': 1535356,\n",
       " 'DMALocker': 205529,\n",
       " 'WannaCry': 106545,\n",
       " 'NoobCrypt': 123353,\n",
       " 'other': 228486}"
      ]
     },
     "execution_count": 14,
     "metadata": {},
     "output_type": "execute_result"
    }
   ],
   "source": [
    "freq_dict = {}\n",
    "black = data[data[\"label\"] != \"white\"]\n",
    "for i in range(len(black)):\n",
    "    if (black.iloc[i][\"label\"] not in freq_dict.keys()):\n",
    "        freq_dict[black.iloc[i][\"label\"]] = black.iloc[i][\"count\"]\n",
    "    else:\n",
    "        freq_dict[black.iloc[i][\"label\"]] += black.iloc[i][\"count\"]\n",
    "freq_dict[\"other\"] = 0\n",
    "for i in list(freq_dict.keys()):\n",
    "    if (freq_dict[i] <= 100000):\n",
    "        freq_dict[\"other\"] += freq_dict[i]\n",
    "        del freq_dict[i]\n",
    "freq_dict"
   ]
  },
  {
   "cell_type": "code",
   "execution_count": 17,
   "metadata": {},
   "outputs": [
    {
     "data": {
      "text/plain": [
       "19864209"
      ]
     },
     "execution_count": 17,
     "metadata": {},
     "output_type": "execute_result"
    }
   ],
   "source": [
    "sum(list(black.loc[:, \"count\"]))"
   ]
  },
  {
   "cell_type": "code",
   "execution_count": 18,
   "metadata": {},
   "outputs": [
    {
     "data": {
      "text/plain": [
       "19864209"
      ]
     },
     "execution_count": 18,
     "metadata": {},
     "output_type": "execute_result"
    }
   ],
   "source": [
    "sum(freq_dict.values())"
   ]
  },
  {
   "cell_type": "code",
   "execution_count": 19,
   "metadata": {},
   "outputs": [
    {
     "data": {
      "text/plain": [
       "Text(0.5, 0, 'Occurance(in million)')"
      ]
     },
     "execution_count": 19,
     "metadata": {},
     "output_type": "execute_result"
    },
    {
     "data": {
      "image/png": "[encoded data removed]",
      "text/plain": [
       "<Figure size 432x288 with 1 Axes>"
      ]
     },
     "metadata": {
      "needs_background": "light"
     },
     "output_type": "display_data"
    }
   ],
   "source": [
    "fig, ax = plt.subplots()\n",
    "ax.barh(list(freq_dict.keys()), list(freq_dict.values()))\n",
    "ax.set_xlabel('Occurance(in million)')"
   ]
  },
  {
   "cell_type": "code",
   "execution_count": null,
   "metadata": {},
   "outputs": [],
   "source": []
  }
 ],
 "metadata": {
  "kernelspec": {
   "display_name": "Python 3",
   "language": "python",
   "name": "python3"
  },
  "language_info": {
   "codemirror_mode": {
    "name": "ipython",
    "version": 3
   },
   "file_extension": ".py",
   "mimetype": "text/x-python",
   "name": "python",
   "nbconvert_exporter": "python",
   "pygments_lexer": "ipython3",
   "version": "3.8.6"
  }
 },
 "nbformat": 4,
 "nbformat_minor": 4
}
